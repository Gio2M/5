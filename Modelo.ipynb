{
 "cells": [
  {
   "cell_type": "code",
   "execution_count": 8,
   "metadata": {},
   "outputs": [
    {
     "name": "stdout",
     "output_type": "stream",
     "text": [
      "              publisher                                             genres  \\\n",
      "0             Kotoshiro  ['Action', 'Casual', 'Indie', 'Simulation', 'S...   \n",
      "1      Making Fun, Inc.       ['Free to Play', 'Indie', 'RPG', 'Strategy']   \n",
      "2          Poolians.com  ['Casual', 'Free to Play', 'Indie', 'Simulatio...   \n",
      "3                  彼岸领域                  ['Action', 'Adventure', 'Casual']   \n",
      "4                   NaN                                                NaN   \n",
      "...                 ...                                                ...   \n",
      "32128   Ghost_RUS Games      ['Casual', 'Indie', 'Simulation', 'Strategy']   \n",
      "32129            Sacada                    ['Casual', 'Indie', 'Strategy']   \n",
      "32130      Laush Studio                  ['Indie', 'Racing', 'Simulation']   \n",
      "32131          SIXNAILS                                ['Casual', 'Indie']   \n",
      "32132               NaN                                                NaN   \n",
      "\n",
      "                       app_name                     title  \\\n",
      "0           Lost Summoner Kitty       Lost Summoner Kitty   \n",
      "1                     Ironbound                 Ironbound   \n",
      "2       Real Pool 3D - Poolians   Real Pool 3D - Poolians   \n",
      "3                       弹炸人2222                   弹炸人2222   \n",
      "4                 Log Challenge                       NaN   \n",
      "...                         ...                       ...   \n",
      "32128            Colony On Mars            Colony On Mars   \n",
      "32129  LOGistICAL: South Africa  LOGistICAL: South Africa   \n",
      "32130             Russian Roads             Russian Roads   \n",
      "32131       EXIT 2 - Directions       EXIT 2 - Directions   \n",
      "32132               Maze Run VR                       NaN   \n",
      "\n",
      "                                                     url release_date  \\\n",
      "0      http://store.steampowered.com/app/761140/Lost_...   2018-01-04   \n",
      "1      http://store.steampowered.com/app/643980/Ironb...   2018-01-04   \n",
      "2      http://store.steampowered.com/app/670290/Real_...   2017-07-24   \n",
      "3         http://store.steampowered.com/app/767400/2222/   2017-12-07   \n",
      "4      http://store.steampowered.com/app/773570/Log_C...          NaT   \n",
      "...                                                  ...          ...   \n",
      "32128  http://store.steampowered.com/app/773640/Colon...   2018-01-04   \n",
      "32129  http://store.steampowered.com/app/733530/LOGis...   2018-01-04   \n",
      "32130  http://store.steampowered.com/app/610660/Russi...   2018-01-04   \n",
      "32131  http://store.steampowered.com/app/658870/EXIT_...   2017-09-02   \n",
      "32132  http://store.steampowered.com/app/681550/Maze_...          NaT   \n",
      "\n",
      "                                                    tags  \\\n",
      "0      ['Strategy', 'Action', 'Indie', 'Casual', 'Sim...   \n",
      "1      ['Free to Play', 'Strategy', 'Indie', 'RPG', '...   \n",
      "2      ['Free to Play', 'Simulation', 'Sports', 'Casu...   \n",
      "3                      ['Action', 'Adventure', 'Casual']   \n",
      "4                ['Action', 'Indie', 'Casual', 'Sports']   \n",
      "...                                                  ...   \n",
      "32128      ['Strategy', 'Indie', 'Casual', 'Simulation']   \n",
      "32129                    ['Strategy', 'Indie', 'Casual']   \n",
      "32130                  ['Indie', 'Simulation', 'Racing']   \n",
      "32131  ['Indie', 'Casual', 'Puzzle', 'Singleplayer', ...   \n",
      "32132  ['Early Access', 'Adventure', 'Indie', 'Action...   \n",
      "\n",
      "                                             reviews_url  \\\n",
      "0      http://steamcommunity.com/app/761140/reviews/?...   \n",
      "1      http://steamcommunity.com/app/643980/reviews/?...   \n",
      "2      http://steamcommunity.com/app/670290/reviews/?...   \n",
      "3      http://steamcommunity.com/app/767400/reviews/?...   \n",
      "4      http://steamcommunity.com/app/773570/reviews/?...   \n",
      "...                                                  ...   \n",
      "32128  http://steamcommunity.com/app/773640/reviews/?...   \n",
      "32129  http://steamcommunity.com/app/733530/reviews/?...   \n",
      "32130  http://steamcommunity.com/app/610660/reviews/?...   \n",
      "32131  http://steamcommunity.com/app/658870/reviews/?...   \n",
      "32132  http://steamcommunity.com/app/681550/reviews/?...   \n",
      "\n",
      "                                                   specs         price  \\\n",
      "0                                      ['Single-player']          4.99   \n",
      "1      ['Single-player', 'Multi-player', 'Online Mult...  Free To Play   \n",
      "2      ['Single-player', 'Multi-player', 'Online Mult...  Free to Play   \n",
      "3                                      ['Single-player']          0.99   \n",
      "4      ['Single-player', 'Full controller support', '...          2.99   \n",
      "...                                                  ...           ...   \n",
      "32128            ['Single-player', 'Steam Achievements']          1.99   \n",
      "32129  ['Single-player', 'Steam Achievements', 'Steam...          4.99   \n",
      "32130  ['Single-player', 'Steam Achievements', 'Steam...          1.99   \n",
      "32131  ['Single-player', 'Steam Achievements', 'Steam...          4.99   \n",
      "32132  ['Single-player', 'Stats', 'Steam Leaderboards...          4.99   \n",
      "\n",
      "       early_access  item_id                 developer  \n",
      "0             False   761140                 Kotoshiro  \n",
      "1             False   643980          Secret Level SRL  \n",
      "2             False   670290              Poolians.com  \n",
      "3             False   767400                      彼岸领域  \n",
      "4             False   773570                       NaN  \n",
      "...             ...      ...                       ...  \n",
      "32128         False   773640        Nikita \"Ghost_RUS\"  \n",
      "32129         False   733530                    Sacada  \n",
      "32130         False   610660  Laush Dmitriy Sergeevich  \n",
      "32131         False   658870             xropi,stev3ns  \n",
      "32132          True   681550                       NaN  \n",
      "\n",
      "[32133 rows x 13 columns]\n"
     ]
    }
   ],
   "source": [
    "import pandas as pd\n",
    "# Especifica la ruta del archivo CSV que deseas leer\n",
    "file_path = 'Data/Datos_csv/games.csv'\n",
    "\n",
    "# Lee el archivo CSV y crea un DataFrame\n",
    "games = pd.read_csv(file_path, parse_dates=['release_date'])\n",
    "\n",
    "# Ahora puedes trabajar con el DataFrame 'df'\n",
    "print(games)"
   ]
  },
  {
   "cell_type": "code",
   "execution_count": 9,
   "metadata": {},
   "outputs": [
    {
     "name": "stdout",
     "output_type": "stream",
     "text": [
      "                 user_id                                           user_url  \\\n",
      "0      76561197970982479  http://steamcommunity.com/profiles/76561197970...   \n",
      "1      76561197970982479  http://steamcommunity.com/profiles/76561197970...   \n",
      "2      76561197970982479  http://steamcommunity.com/profiles/76561197970...   \n",
      "3                js41637               http://steamcommunity.com/id/js41637   \n",
      "4                js41637               http://steamcommunity.com/id/js41637   \n",
      "...                  ...                                                ...   \n",
      "59300  76561198312638244  http://steamcommunity.com/profiles/76561198312...   \n",
      "59301  76561198312638244  http://steamcommunity.com/profiles/76561198312...   \n",
      "59302        LydiaMorley           http://steamcommunity.com/id/LydiaMorley   \n",
      "59303        LydiaMorley           http://steamcommunity.com/id/LydiaMorley   \n",
      "59304        LydiaMorley           http://steamcommunity.com/id/LydiaMorley   \n",
      "\n",
      "                                  funny     posted last_edited  item_id  \\\n",
      "0                                   NaN 2011-11-05         NaN     1250   \n",
      "1                                   NaN 2011-07-15         NaN    22200   \n",
      "2                                   NaN 2011-04-21         NaN    43110   \n",
      "3                                   NaN 2014-06-24         NaN   251610   \n",
      "4                                   NaN 2013-09-08         NaN   227300   \n",
      "...                                 ...        ...         ...      ...   \n",
      "59300                               NaN        NaT         NaN       70   \n",
      "59301                               NaN        NaT         NaN   362890   \n",
      "59302  1 person found this review funny        NaT         NaN   273110   \n",
      "59303                               NaN        NaT         NaN      730   \n",
      "59304                               NaN        NaT         NaN      440   \n",
      "\n",
      "                                               helpful  recommend  \\\n",
      "0                                       No ratings yet       True   \n",
      "1                                       No ratings yet       True   \n",
      "2                                       No ratings yet       True   \n",
      "3      15 of 20 people (75%) found this review helpful       True   \n",
      "4         0 of 1 people (0%) found this review helpful       True   \n",
      "...                                                ...        ...   \n",
      "59300                                   No ratings yet       True   \n",
      "59301                                   No ratings yet       True   \n",
      "59302    1 of 2 people (50%) found this review helpful       True   \n",
      "59303                                   No ratings yet       True   \n",
      "59304                                   No ratings yet       True   \n",
      "\n",
      "                                                  review  sentiment_score  \\\n",
      "0      Simple yet with great replayability. In my opi...           0.8481   \n",
      "1                   It's unique and worth a playthrough.           0.2263   \n",
      "2      Great atmosphere. The gunplay can be a bit chu...           0.9117   \n",
      "3      I know what you think when you see this title ...           0.9566   \n",
      "4      For a simple (it's actually not all that simpl...           0.9708   \n",
      "...                                                  ...              ...   \n",
      "59300  a must have classic from steam definitely wort...           0.5574   \n",
      "59301  this game is a perfect remake of the original ...           0.9786   \n",
      "59302  had so much fun plaing this and collecting res...           0.7827   \n",
      "59303                                                 :D           0.5106   \n",
      "59304                                     so much fun :D           0.8349   \n",
      "\n",
      "       sentiment_analysis  \n",
      "0                       2  \n",
      "1                       2  \n",
      "2                       2  \n",
      "3                       2  \n",
      "4                       2  \n",
      "...                   ...  \n",
      "59300                   2  \n",
      "59301                   2  \n",
      "59302                   2  \n",
      "59303                   2  \n",
      "59304                   2  \n",
      "\n",
      "[59305 rows x 11 columns]\n"
     ]
    }
   ],
   "source": [
    "# Especifica la ruta del archivo CSV que deseas leer\n",
    "file_path = 'Data/Datos_csv/reviews_nlp.csv'\n",
    "\n",
    "# Lee el archivo CSV y crea un DataFrame\n",
    "reviews = pd.read_csv(file_path, parse_dates=['posted'])\n",
    "\n",
    "# Ahora puedes trabajar con el DataFrame 'reviews'\n",
    "print(reviews)"
   ]
  },
  {
   "cell_type": "code",
   "execution_count": 10,
   "metadata": {},
   "outputs": [
    {
     "name": "stdout",
     "output_type": "stream",
     "text": [
      "                 user_id  item_id  recommend\n",
      "0      76561197970982479     1250       True\n",
      "1      76561197970982479    22200       True\n",
      "2      76561197970982479    43110       True\n",
      "3                js41637   251610       True\n",
      "4                js41637   227300       True\n",
      "...                  ...      ...        ...\n",
      "36485  76561198312638244       70       True\n",
      "36486  76561198312638244   362890       True\n",
      "36487        LydiaMorley   273110       True\n",
      "36488        LydiaMorley      730       True\n",
      "36489        LydiaMorley      440       True\n",
      "\n",
      "[36490 rows x 3 columns]\n"
     ]
    }
   ],
   "source": [
    "# Especifica la ruta del archivo CSV que deseas leer\n",
    "file_path = 'Data/Datos_csv/df_train_filtrado.csv'\n",
    "\n",
    "# Lee el archivo CSV y crea un DataFrame\n",
    "df_train_filtrado = pd.read_csv(file_path)\n",
    "\n",
    "# Ahora puedes trabajar con el DataFrame 'reviews'\n",
    "print(df_train_filtrado)"
   ]
  },
  {
   "cell_type": "code",
   "execution_count": 17,
   "metadata": {},
   "outputs": [
    {
     "name": "stdout",
     "output_type": "stream",
     "text": [
      "Requirement already satisfied: scikit-surprise in c:\\users\\gio\\appdata\\local\\programs\\python\\python39\\lib\\site-packages (1.1.3)Note: you may need to restart the kernel to use updated packages.\n",
      "\n",
      "Requirement already satisfied: joblib>=1.0.0 in c:\\users\\gio\\appdata\\local\\programs\\python\\python39\\lib\\site-packages (from scikit-surprise) (1.3.2)\n",
      "Requirement already satisfied: numpy>=1.17.3 in c:\\users\\gio\\appdata\\local\\programs\\python\\python39\\lib\\site-packages (from scikit-surprise) (1.25.2)\n",
      "Requirement already satisfied: scipy>=1.3.2 in c:\\users\\gio\\appdata\\local\\programs\\python\\python39\\lib\\site-packages (from scikit-surprise) (1.11.2)\n"
     ]
    }
   ],
   "source": [
    "pip install scikit-surprise"
   ]
  },
  {
   "cell_type": "code",
   "execution_count": 18,
   "metadata": {},
   "outputs": [],
   "source": [
    "from surprise import Dataset\n",
    "from surprise import Reader\n",
    "from surprise.model_selection import train_test_split\n",
    "from surprise.model_selection import KFold\n",
    "from surprise import accuracy\n",
    "from surprise import KNNBasic, KNNWithMeans, KNNBaseline\n",
    "from surprise import SVD"
   ]
  },
  {
   "cell_type": "code",
   "execution_count": 12,
   "metadata": {},
   "outputs": [
    {
     "name": "stdout",
     "output_type": "stream",
     "text": [
      "Computing the pearson similarity matrix...\n",
      "Done computing similarity matrix.\n",
      "Juegos recomendados por usuarios similares:\n",
      "[312210 218620 265550 252490 303210   4000  24240 204300 236390 418910\n",
      "   8170   8850 203160   8870  17300   7670 270210 206210 230410 284460\n",
      " 259080 339800 323370 257030 212070    570     70  15320 314160  72850\n",
      " 200710    730     80 210170    440]\n"
     ]
    }
   ],
   "source": [
    "# Configura el lector y la escala de calificación (ajusta esto según tus datos)\n",
    "reader = Reader(rating_scale=(0, 1))\n",
    "\n",
    "# Carga los datos\n",
    "data = Dataset.load_from_df(df_train_filtrado[['user_id', 'item_id', 'recommend']], reader)\n",
    "\n",
    "# Divide los datos en conjuntos de entrenamiento y prueba\n",
    "trainset, testset = train_test_split(data, test_size=0.2)\n",
    "\n",
    "# Crea el modelo KNN (K-Nearest Neighbors) para encontrar usuarios similares\n",
    "sim_options = {'name': 'pearson', 'user_based': True}\n",
    "algo = KNNBasic(sim_options=sim_options)\n",
    "\n",
    "# Entrena el modelo en el conjunto de entrenamiento\n",
    "algo.fit(trainset)\n",
    "\n",
    "# Supongamos que tenemos un usuario de interés con user_id = 'tu_usuario'\n",
    "tu_usuario = 'evcentric'\n",
    "\n",
    "# Encuentra los usuarios más similares al usuario de interés\n",
    "similar_users = algo.get_neighbors(algo.trainset.to_inner_uid(tu_usuario), k=10)\n",
    "\n",
    "# Filtra las reseñas de los usuarios similares\n",
    "reviews_similares = reviews[reviews['user_id'].isin([algo.trainset.to_raw_uid(uid) for uid in similar_users])]\n",
    "\n",
    "# Filtra las reseñas de juegos que han sido recomendados (recommend=True)\n",
    "juegos_recomendados = reviews_similares[reviews_similares['recommend']]\n",
    "\n",
    "# Obtén la lista de juegos recomendados por usuarios similares\n",
    "juegos_recomendados_lista = juegos_recomendados['item_id'].unique()\n",
    "\n",
    "# Imprime la lista de juegos recomendados\n",
    "print(\"Juegos recomendados por usuarios similares:\")\n",
    "print(juegos_recomendados_lista)"
   ]
  },
  {
   "cell_type": "code",
   "execution_count": 13,
   "metadata": {},
   "outputs": [
    {
     "name": "stdout",
     "output_type": "stream",
     "text": [
      "RMSE: 0.3296\n",
      "RMSE: 0.32956156242933293\n"
     ]
    }
   ],
   "source": [
    "# Realiza predicciones en el conjunto de prueba\n",
    "predictions = algo.test(testset)\n",
    "\n",
    "# Calcula la RMSE para evaluar el rendimiento del modelo\n",
    "rmse = accuracy.rmse(predictions)\n",
    "\n",
    "# Imprime la RMSE\n",
    "print(f'RMSE: {rmse}')"
   ]
  },
  {
   "cell_type": "code",
   "execution_count": 14,
   "metadata": {},
   "outputs": [
    {
     "name": "stdout",
     "output_type": "stream",
     "text": [
      "   item_id                          app_name\n",
      "0   312210                     The Fifth Day\n",
      "1   218620                          PAYDAY 2\n",
      "2   265550  Dead Rising 3 Apocalypse Edition\n",
      "3   252490                              Rust\n",
      "4   303210              The Beginner's Guide\n"
     ]
    },
    {
     "data": {
      "text/html": [
       "<div>\n",
       "<style scoped>\n",
       "    .dataframe tbody tr th:only-of-type {\n",
       "        vertical-align: middle;\n",
       "    }\n",
       "\n",
       "    .dataframe tbody tr th {\n",
       "        vertical-align: top;\n",
       "    }\n",
       "\n",
       "    .dataframe thead th {\n",
       "        text-align: right;\n",
       "    }\n",
       "</style>\n",
       "<table border=\"1\" class=\"dataframe\">\n",
       "  <thead>\n",
       "    <tr style=\"text-align: right;\">\n",
       "      <th></th>\n",
       "      <th>item_id</th>\n",
       "      <th>app_name</th>\n",
       "    </tr>\n",
       "  </thead>\n",
       "  <tbody>\n",
       "    <tr>\n",
       "      <th>0</th>\n",
       "      <td>312210</td>\n",
       "      <td>The Fifth Day</td>\n",
       "    </tr>\n",
       "    <tr>\n",
       "      <th>1</th>\n",
       "      <td>218620</td>\n",
       "      <td>PAYDAY 2</td>\n",
       "    </tr>\n",
       "    <tr>\n",
       "      <th>2</th>\n",
       "      <td>265550</td>\n",
       "      <td>Dead Rising 3 Apocalypse Edition</td>\n",
       "    </tr>\n",
       "    <tr>\n",
       "      <th>3</th>\n",
       "      <td>252490</td>\n",
       "      <td>Rust</td>\n",
       "    </tr>\n",
       "    <tr>\n",
       "      <th>4</th>\n",
       "      <td>303210</td>\n",
       "      <td>The Beginner's Guide</td>\n",
       "    </tr>\n",
       "  </tbody>\n",
       "</table>\n",
       "</div>"
      ],
      "text/plain": [
       "   item_id                          app_name\n",
       "0   312210                     The Fifth Day\n",
       "1   218620                          PAYDAY 2\n",
       "2   265550  Dead Rising 3 Apocalypse Edition\n",
       "3   252490                              Rust\n",
       "4   303210              The Beginner's Guide"
      ]
     },
     "execution_count": 14,
     "metadata": {},
     "output_type": "execute_result"
    }
   ],
   "source": [
    "# Inicializa una lista vacía para almacenar los juegos encontrados\n",
    "juegos_encontrados = []\n",
    "\n",
    "# Itera a través de la lista de juegos recomendados\n",
    "for juego_id in juegos_recomendados_lista:\n",
    "    # Busca el juego en el DataFrame games\n",
    "    juego = games[games['item_id'] == juego_id]\n",
    "    \n",
    "    # Si se encuentra el juego, agrégalo a la lista de juegos encontrados\n",
    "    if not juego.empty:\n",
    "        juegos_encontrados.append(juego[['item_id', 'app_name']])  # Agrega solo las columnas \"item_id\" y \"app_name\" del juego encontrado\n",
    "\n",
    "    # Si ya hemos encontrado 5 juegos, detén el bucle\n",
    "    if len(juegos_encontrados) == 5:\n",
    "        break\n",
    "\n",
    "# Convierte la lista de juegos encontrados en un DataFrame\n",
    "juegos_encontrados_df = pd.concat(juegos_encontrados, ignore_index=True)\n",
    "\n",
    "# Imprime el DataFrame de juegos encontrados con las columnas \"item_id\" y \"app_name\"\n",
    "print(juegos_encontrados_df[['item_id', 'app_name']])\n",
    "juegos_encontrados_df"
   ]
  },
  {
   "cell_type": "code",
   "execution_count": 21,
   "metadata": {},
   "outputs": [],
   "source": [
    "def similar_user(tu_usuario: str):\n",
    "\n",
    "    # Encuentra los usuarios más similares al usuario de interés\n",
    "    similar_users = algo.get_neighbors(algo.trainset.to_inner_uid(tu_usuario), k=10)\n",
    "\n",
    "    # Filtra las reseñas de los usuarios similares\n",
    "    reviews_similares = reviews[reviews['user_id'].isin([algo.trainset.to_raw_uid(uid) for uid in similar_users])]\n",
    "\n",
    "    # Filtra las reseñas de juegos que han sido recomendados (recommend=True)\n",
    "    juegos_recomendados = reviews_similares[reviews_similares['recommend']]\n",
    "\n",
    "    # Obtén la lista de juegos recomendados por usuarios similares\n",
    "    juegos_recomendados_lista = juegos_recomendados['item_id'].unique()\n",
    "\n",
    "    # Imprime la lista de juegos recomendados\n",
    "    # print(\"Juegos recomendados por usuarios similares:\")\n",
    "    # print(juegos_recomendados_lista)\n",
    "\n",
    "\n",
    "    # Inicializa una lista vacía para almacenar los juegos encontrados\n",
    "    juegos_encontrados = []\n",
    "\n",
    "    # Itera a través de la lista de juegos recomendados\n",
    "    for juego_id in juegos_recomendados_lista:\n",
    "        # Busca el juego en el DataFrame games\n",
    "        juego = games[games['item_id'] == juego_id]\n",
    "        \n",
    "        # Si se encuentra el juego, agrégalo a la lista de juegos encontrados\n",
    "        if not juego.empty:\n",
    "            juegos_encontrados.append(juego[['item_id', 'app_name']])  # Agrega solo las columnas \"item_id\" y \"app_name\" del juego encontrado\n",
    "\n",
    "        # Si ya hemos encontrado 5 juegos, detén el bucle\n",
    "        if len(juegos_encontrados) == 5:\n",
    "            break\n",
    "\n",
    "    # Convierte la lista de juegos encontrados en un DataFrame\n",
    "    juegos_encontrados_df = pd.concat(juegos_encontrados, ignore_index=True)\n",
    "\n",
    "    # Imprime el DataFrame de juegos encontrados con las columnas \"item_id\" y \"app_name\"\n",
    "    #return print(juegos_encontrados_df[['item_id', 'app_name']])\n",
    "    return juegos_encontrados"
   ]
  },
  {
   "cell_type": "code",
   "execution_count": 23,
   "metadata": {},
   "outputs": [
    {
     "data": {
      "text/plain": [
       "[       item_id       app_name\n",
       " 28667   312210  The Fifth Day,\n",
       "        item_id  app_name\n",
       " 30068   218620  PAYDAY 2,\n",
       "        item_id                          app_name\n",
       " 28444   265550  Dead Rising 3 Apocalypse Edition,\n",
       "        item_id app_name\n",
       " 29691   252490     Rust,\n",
       "        item_id              app_name\n",
       " 25439   303210  The Beginner's Guide]"
      ]
     },
     "execution_count": 23,
     "metadata": {},
     "output_type": "execute_result"
    }
   ],
   "source": [
    "similar_user('evcentric')"
   ]
  },
  {
   "cell_type": "code",
   "execution_count": 20,
   "metadata": {},
   "outputs": [
    {
     "data": {
      "text/plain": [
       "[       item_id       app_name\n",
       " 28667   312210  The Fifth Day,\n",
       "        item_id  app_name\n",
       " 30068   218620  PAYDAY 2,\n",
       "        item_id                          app_name\n",
       " 28444   265550  Dead Rising 3 Apocalypse Edition,\n",
       "        item_id app_name\n",
       " 29691   252490     Rust,\n",
       "        item_id              app_name\n",
       " 25439   303210  The Beginner's Guide]"
      ]
     },
     "execution_count": 20,
     "metadata": {},
     "output_type": "execute_result"
    }
   ],
   "source": [
    "juegos_encontrados"
   ]
  }
 ],
 "metadata": {
  "kernelspec": {
   "display_name": "Python 3",
   "language": "python",
   "name": "python3"
  },
  "language_info": {
   "codemirror_mode": {
    "name": "ipython",
    "version": 3
   },
   "file_extension": ".py",
   "mimetype": "text/x-python",
   "name": "python",
   "nbconvert_exporter": "python",
   "pygments_lexer": "ipython3",
   "version": "3.9.6"
  },
  "orig_nbformat": 4
 },
 "nbformat": 4,
 "nbformat_minor": 2
}
